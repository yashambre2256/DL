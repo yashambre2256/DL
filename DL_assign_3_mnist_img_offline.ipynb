{
 "cells": [
  {
   "cell_type": "markdown",
   "id": "63b290d5-9424-4c85-b926-4d748a1c1545",
   "metadata": {},
   "source": [
    "3. Build the Image classification model by dividing the model into following 4 stages:\n",
    "<br>\n",
    "a. Loading and preprocessing the image data\n",
    "<br>\n",
    "b. Defining the model’s architecture\n",
    "<br>\n",
    "c. Training the model\n",
    "<br>\n",
    "d. Estimating the model’s performance"
   ]
  },
  {
   "cell_type": "code",
   "execution_count": 2,
   "id": "1881b1ca-c7c2-4690-837a-c506d37d8b44",
   "metadata": {},
   "outputs": [],
   "source": [
    "import numpy as np\n",
    "import tensorflow as tf\n",
    "from tensorflow.keras.datasets import mnist\n",
    "from tensorflow.keras.utils import to_categorical\n",
    "from tensorflow.keras import layers, models\n",
    "from tensorflow.keras.preprocessing.image import ImageDataGenerator\n",
    "import matplotlib.pyplot as plt"
   ]
  },
  {
   "cell_type": "markdown",
   "id": "7f9c0238-2cf1-4392-8e51-88647ce9321b",
   "metadata": {},
   "source": [
    "#### a. Loading and preprocessing the image data"
   ]
  },
  {
   "cell_type": "code",
   "execution_count": 3,
   "id": "933fd60b-9cc1-4474-bfae-7242e272bdd1",
   "metadata": {},
   "outputs": [
    {
     "name": "stdout",
     "output_type": "stream",
     "text": [
      "Found 60000 images belonging to 10 classes.\n",
      "Found 60000 images belonging to 10 classes.\n"
     ]
    }
   ],
   "source": [
    "train_data_dir = 'Datasets/mnist-jpg/train'\n",
    "test_data_dir = 'Datasets/mnist-jpg/test'\n",
    "\n",
    "# Image data generator for training data\n",
    "train_datagen = ImageDataGenerator(\n",
    "rescale=1.0/255\n",
    ")\n",
    "\n",
    "# Image data generator for testing data\n",
    "test_datagen = ImageDataGenerator(\n",
    "rescale=1.0/255\n",
    ")\n",
    "\n",
    "# Create data generators\n",
    "train_batch_size = 10000\n",
    "train_generator = train_datagen.flow_from_directory(\n",
    "    train_data_dir,\n",
    "    target_size=(28, 28),  # Resize images to 28x28\n",
    "    batch_size=train_batch_size,\n",
    "    class_mode='categorical', \n",
    "    color_mode='grayscale',# Use 'categorical' for one-hot encoded labels\n",
    "    shuffle=True,\n",
    ")\n",
    "\n",
    "# Load test data without labels (class_mode=None)\n",
    "test_batch_size = 2000\n",
    "test_generator = test_datagen.flow_from_directory(\n",
    "    test_data_dir,\n",
    "    target_size=(28, 28),  # Resize images to 28x28\n",
    "    batch_size=test_batch_size,\n",
    "    class_mode='categorical',  # Use 'categorical' for one-hot encoded labels\n",
    "    color_mode='grayscale',\n",
    "    shuffle=True,\n",
    ")"
   ]
  },
  {
   "cell_type": "markdown",
   "id": "94d74792-0c82-4e60-be46-53205c61e422",
   "metadata": {},
   "source": [
    "#### Selecting first batch containing 10000 images"
   ]
  },
  {
   "cell_type": "code",
   "execution_count": 4,
   "id": "f8c7d3eb-9234-403f-a404-762c7a14e3bd",
   "metadata": {},
   "outputs": [],
   "source": [
    "x_train, y_train = train_generator[0]\n",
    "x_test, y_test = test_generator[0]"
   ]
  },
  {
   "cell_type": "code",
   "execution_count": 5,
   "id": "4b5e94d5-398f-4b6b-891f-9fed47d32091",
   "metadata": {},
   "outputs": [
    {
     "name": "stdout",
     "output_type": "stream",
     "text": [
      "(10000, 28, 28, 1) (10000, 10)\n"
     ]
    }
   ],
   "source": [
    "print(x_train.shape, y_train.shape)"
   ]
  },
  {
   "cell_type": "markdown",
   "id": "d90486b5-8bed-4921-b2cb-fb9e9741456f",
   "metadata": {},
   "source": [
    "#### b. Defining the model’s architecture"
   ]
  },
  {
   "cell_type": "code",
   "execution_count": 6,
   "id": "cbfa1119-5fa2-4973-9e0d-df6a2babbf24",
   "metadata": {},
   "outputs": [],
   "source": [
    "model = models.Sequential()\n",
    "model.add(layers.Conv2D(32, (3, 3), activation='relu', input_shape=(28, 28, 1)))\n",
    "model.add(layers.MaxPooling2D((2, 2)))\n",
    "model.add(layers.Flatten())\n",
    "model.add(layers.Dense(64, activation='relu'))\n",
    "model.add(layers.Dense(10, activation='softmax'))\n",
    "\n",
    "model.compile(optimizer='adam',\n",
    "              loss='categorical_crossentropy',\n",
    "              metrics=['accuracy'])"
   ]
  },
  {
   "cell_type": "markdown",
   "id": "065965c7-8fad-4dc1-86bb-7ccfeceee632",
   "metadata": {},
   "source": [
    "#### c. Training the model"
   ]
  },
  {
   "cell_type": "code",
   "execution_count": 8,
   "id": "53bb3dbc-50b1-42c0-985f-154d8cb13483",
   "metadata": {},
   "outputs": [
    {
     "name": "stdout",
     "output_type": "stream",
     "text": [
      "Epoch 1/5\n",
      "157/157 [==============================] - 2s 11ms/step - loss: 0.5566 - accuracy: 0.8428 - val_loss: 0.2578 - val_accuracy: 0.9315\n",
      "Epoch 2/5\n",
      "157/157 [==============================] - 1s 10ms/step - loss: 0.2051 - accuracy: 0.9419 - val_loss: 0.1786 - val_accuracy: 0.9500\n",
      "Epoch 3/5\n",
      "157/157 [==============================] - 2s 10ms/step - loss: 0.1344 - accuracy: 0.9626 - val_loss: 0.1204 - val_accuracy: 0.9730\n",
      "Epoch 4/5\n",
      "157/157 [==============================] - 2s 10ms/step - loss: 0.0943 - accuracy: 0.9733 - val_loss: 0.1029 - val_accuracy: 0.9725\n",
      "Epoch 5/5\n",
      "157/157 [==============================] - 2s 10ms/step - loss: 0.0658 - accuracy: 0.9828 - val_loss: 0.0822 - val_accuracy: 0.9795\n"
     ]
    },
    {
     "data": {
      "text/plain": [
       "<keras.src.callbacks.History at 0x7f7b05b74690>"
      ]
     },
     "execution_count": 8,
     "metadata": {},
     "output_type": "execute_result"
    }
   ],
   "source": [
    "model.fit(x_train, y_train, epochs=5, batch_size=64, validation_data=(x_test, y_test))"
   ]
  },
  {
   "cell_type": "markdown",
   "id": "1ce7a818-551d-46c9-ac9e-6e8f728e9337",
   "metadata": {},
   "source": [
    "#### d. Estimating the model’s performance"
   ]
  },
  {
   "cell_type": "code",
   "execution_count": 10,
   "id": "e1f2f83d-ecb0-4982-babf-afdda1f9e1ce",
   "metadata": {},
   "outputs": [
    {
     "name": "stdout",
     "output_type": "stream",
     "text": [
      "63/63 [==============================] - 0s 2ms/step - loss: 0.0822 - accuracy: 0.9795\n",
      "Loss:  0.08217164129018784\n",
      "Accuracy:  0.9794999957084656\n"
     ]
    }
   ],
   "source": [
    "test_loss, test_accuracy = model.evaluate(x_test, y_test)\n",
    "print(\"Loss: \", test_loss)\n",
    "print(\"Accuracy: \", test_accuracy)"
   ]
  },
  {
   "cell_type": "code",
   "execution_count": 12,
   "id": "f7b7a6b1-ec2b-4100-ba09-21c7062952d6",
   "metadata": {},
   "outputs": [
    {
     "name": "stdout",
     "output_type": "stream",
     "text": [
      "63/63 [==============================] - 0s 2ms/step\n",
      "Actual Number:  4\n",
      "Predicted Number:  4\n"
     ]
    },
    {
     "data": {
      "image/png": "[encoded data removed]",
      "text/plain": [
       "<Figure size 640x480 with 1 Axes>"
      ]
     },
     "metadata": {},
     "output_type": "display_data"
    }
   ],
   "source": [
    "n = 30 \n",
    "plt.imshow(x_test[n])\n",
    "predicted_value = model.predict(x_test)\n",
    "print(\"Actual Number: \",np.argmax(y_test[n]))\n",
    "print(\"Predicted Number: \", np.argmax(predicted_value[n]))"
   ]
  }
 ],
 "metadata": {
  "kernelspec": {
   "display_name": "Python 3 (ipykernel)",
   "language": "python",
   "name": "python3"
  },
  "language_info": {
   "codemirror_mode": {
    "name": "ipython",
    "version": 3
   },
   "file_extension": ".py",
   "mimetype": "text/x-python",
   "name": "python",
   "nbconvert_exporter": "python",
   "pygments_lexer": "ipython3",
   "version": "3.11.0rc1"
  }
 },
 "nbformat": 4,
 "nbformat_minor": 5
}

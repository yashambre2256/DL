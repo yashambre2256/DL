{
  "nbformat": 4,
  "nbformat_minor": 0,
  "metadata": {
    "colab": {
      "provenance": []
    },
    "kernelspec": {
      "name": "python3",
      "display_name": "Python 3"
    },
    "language_info": {
      "name": "python"
    }
  },
  "cells": [
    {
      "cell_type": "code",
      "source": [
        "import numpy as np\n",
        "import pandas as pd\n",
        "import seaborn as sns\n",
        "import matplotlib as mpl\n",
        "import matplotlib.pyplot as plt\n",
        "import matplotlib.pylab as pylab"
      ],
      "metadata": {
        "id": "mi2g58zxOIKh"
      },
      "execution_count": 7,
      "outputs": []
    },
    {
      "cell_type": "code",
      "source": [
        "import re"
      ],
      "metadata": {
        "id": "9w5DTXeqO-6R"
      },
      "execution_count": 8,
      "outputs": []
    },
    {
      "cell_type": "code",
      "source": [
        "sentences = \"\"\"We are about to study the idea of a computational process.\n",
        "Computational processes are abstract beings that inhabit computers.\n",
        "As they evolve, processes manipulate other abstract things called data.\n",
        "The evolution of a process is directed by a pattern of rules called a program.\n",
        "People create programs to direct processes. In effect,\n",
        "we conjure the spirits of the computer with our spells.\"\"\""
      ],
      "metadata": {
        "id": "fQCJf86APBW6"
      },
      "execution_count": 9,
      "outputs": []
    },
    {
      "cell_type": "code",
      "source": [
        "senteces = re.sub('[^A-Za-z0-9]+', ' ', sentences)"
      ],
      "metadata": {
        "id": "mPYJ2Q5CPFrU"
      },
      "execution_count": 10,
      "outputs": []
    },
    {
      "cell_type": "code",
      "source": [
        "senteces = re.sub(r'(?:^| )\\w(?:$| )', ' ', sentences).strip()"
      ],
      "metadata": {
        "id": "I9jmtsmgPJHU"
      },
      "execution_count": 11,
      "outputs": []
    },
    {
      "cell_type": "code",
      "source": [
        "sentences = sentences.lower()"
      ],
      "metadata": {
        "id": "pSJV8H25PLkl"
      },
      "execution_count": 12,
      "outputs": []
    },
    {
      "cell_type": "code",
      "source": [
        "words = sentences.split()\n",
        "vocab = set(words)"
      ],
      "metadata": {
        "id": "3teUqSybPOCe"
      },
      "execution_count": 13,
      "outputs": []
    },
    {
      "cell_type": "code",
      "source": [
        "vocab_size = len(vocab)\n",
        "embed_dim = 10\n",
        "context_size = 2"
      ],
      "metadata": {
        "id": "r6NyBrqQPQxV"
      },
      "execution_count": 14,
      "outputs": []
    },
    {
      "cell_type": "code",
      "source": [
        "word_to_ix = {word: i for i, word in enumerate(vocab)}\n",
        "ix_to_word = {i: word for i, word in enumerate(vocab)}"
      ],
      "metadata": {
        "id": "GPZuWkWKPT1Y"
      },
      "execution_count": 15,
      "outputs": []
    },
    {
      "cell_type": "code",
      "source": [
        "data = []\n",
        "for i in range(2,len(words) - 2):\n",
        "  context = [words[i-2], words[i-1], words[i+1], words[i+2]]\n",
        "  target = words[i]\n",
        "  data.append((context,target))\n",
        "print(data[:5])"
      ],
      "metadata": {
        "colab": {
          "base_uri": "https://localhost:8080/"
        },
        "id": "J8gZzQmpPV_7",
        "outputId": "bc8a8ec9-2dec-4de4-b5b5-54472be13931"
      },
      "execution_count": 16,
      "outputs": [
        {
          "output_type": "stream",
          "name": "stdout",
          "text": [
            "[(['we', 'are', 'to', 'study'], 'about'), (['are', 'about', 'study', 'the'], 'to'), (['about', 'to', 'the', 'idea'], 'study'), (['to', 'study', 'idea', 'of'], 'the'), (['study', 'the', 'of', 'a'], 'idea')]\n"
          ]
        }
      ]
    },
    {
      "cell_type": "code",
      "source": [
        "embeddings = np.random.random_sample((vocab_size , embed_dim))"
      ],
      "metadata": {
        "id": "ZVI8oIptPZri"
      },
      "execution_count": 17,
      "outputs": []
    },
    {
      "cell_type": "code",
      "source": [
        "def linear(m,theta):\n",
        "  w = theta\n",
        "  return m.dot(w)"
      ],
      "metadata": {
        "id": "39tOiMnyPdA7"
      },
      "execution_count": 18,
      "outputs": []
    },
    {
      "cell_type": "code",
      "source": [
        "def log_softmax(x):\n",
        "  e_x = np.exp(x-np.max(x))\n",
        "  return np.log(e_x/e_x.sum())"
      ],
      "metadata": {
        "id": "FFnXP4ULPixu"
      },
      "execution_count": 19,
      "outputs": []
    },
    {
      "cell_type": "code",
      "source": [
        "def NLLLoss(logs,targets):\n",
        "  out = logs[range(len(targets)),targets]\n",
        "  return -out.sum()/len(out)"
      ],
      "metadata": {
        "id": "haeftx3TPq_2"
      },
      "execution_count": 20,
      "outputs": []
    },
    {
      "cell_type": "code",
      "source": [
        "def log_softmax_crossentropy_with_logits(logits,target):\n",
        "  out = np.zeros_like(logits)\n",
        "  out[np.arange(len(logits)) , target] = 1\n",
        "\n",
        "  softmax = np.exp(logits) / np.exp(logits).sum(axis=-1, keepdims=True)\n",
        "\n",
        "  return(- out + softmax) / logits.shape[0]"
      ],
      "metadata": {
        "id": "Kgtr8hjDPthX"
      },
      "execution_count": 21,
      "outputs": []
    },
    {
      "cell_type": "code",
      "source": [
        "def forward(context_idxs, theta):\n",
        "  m = embeddings[context_idxs].reshape(1, -1)\n",
        "  n = linear(m, theta)\n",
        "  o = log_softmax(n)\n",
        "\n",
        "  return m, n, o"
      ],
      "metadata": {
        "id": "F3cswyUBPv0X"
      },
      "execution_count": 22,
      "outputs": []
    },
    {
      "cell_type": "code",
      "source": [
        "def backward(preds, theta, target_idxs):\n",
        "  m, n, o = preds\n",
        "\n",
        "  dlog = log_softmax_crossentropy_with_logits(n, target_idxs)\n",
        "  dw = m.T.dot(dlog)\n",
        "\n",
        "\n",
        "  return dw"
      ],
      "metadata": {
        "id": "WzQ2rzSTPzHe"
      },
      "execution_count": 23,
      "outputs": []
    },
    {
      "cell_type": "code",
      "source": [
        "def optimize(theta, grad, lr=0.03):\n",
        "  theta -= grad * lr\n",
        "  return theta"
      ],
      "metadata": {
        "id": "5N7Mh1-DP2E5"
      },
      "execution_count": 24,
      "outputs": []
    },
    {
      "cell_type": "code",
      "source": [
        "theta = np.random.uniform(-1,1, (2 * context_size * embed_dim, vocab_size))"
      ],
      "metadata": {
        "id": "_c0zUuMxP68Q"
      },
      "execution_count": 25,
      "outputs": []
    },
    {
      "cell_type": "code",
      "source": [
        "epoch_losses = {}\n",
        "\n",
        "for epoch in range(80):\n",
        "\n",
        "  losses = []\n",
        "\n",
        "  for context, target in data:\n",
        "    context_idxs = np.array([word_to_ix[w] for w in context])\n",
        "    preds = forward(context_idxs,theta)\n",
        "\n",
        "    target_idxs = np.array([word_to_ix[target]])\n",
        "    loss = NLLLoss(preds[-1], target_idxs)\n",
        "\n",
        "    losses.append(loss)\n",
        "\n",
        "    grad = backward(preds, theta, target_idxs)\n",
        "    theta = optimize(theta, grad, lr=0.03)\n",
        "\n",
        "  epoch_losses[epoch] = losses"
      ],
      "metadata": {
        "id": "6NaBq8trP-kS"
      },
      "execution_count": 26,
      "outputs": []
    },
    {
      "cell_type": "code",
      "source": [
        "ix = np.arange(0,80)\n",
        "\n",
        "fig = plt.figure()\n",
        "fig.suptitle('Epoch/Losses', fontsize = 20)\n",
        "plt.plot(ix,[epoch_losses[i][0] for i in ix])\n",
        "plt.xlabel('Epochs' , fontsize = 12)\n",
        "plt.ylabel('Losses' , fontsize = 12)"
      ],
      "metadata": {
        "colab": {
          "base_uri": "https://localhost:8080/",
          "height": 518
        },
        "id": "PlI8D0NHQEfu",
        "outputId": "ad56afb8-23ce-44eb-edbb-6d07857e2e52"
      },
      "execution_count": 27,
      "outputs": [
        {
          "output_type": "execute_result",
          "data": {
            "text/plain": [
              "Text(0, 0.5, 'Losses')"
            ]
          },
          "metadata": {},
          "execution_count": 27
        },
        {
          "output_type": "display_data",
          "data": {
            "text/plain": [
              "<Figure size 640x480 with 1 Axes>"
            ],
            "image/png": "[encoded data removed]"
          },
          "metadata": {}
        }
      ]
    },
    {
      "cell_type": "code",
      "source": [
        "def predict(words):\n",
        "  context_idxs = np.array([word_to_ix[w] for w in words])\n",
        "  preds = forward(context_idxs,theta)\n",
        "  word = ix_to_word[np.argmax(preds[-1])]\n",
        "\n",
        "  return word"
      ],
      "metadata": {
        "id": "YqpEQ8boQNp3"
      },
      "execution_count": 29,
      "outputs": []
    },
    {
      "cell_type": "code",
      "source": [
        "predict(['we','are','to','study'])"
      ],
      "metadata": {
        "colab": {
          "base_uri": "https://localhost:8080/",
          "height": 35
        },
        "id": "HpSfGruWQXD6",
        "outputId": "ac9e1268-092a-4719-90d8-46a8df62a811"
      },
      "execution_count": 30,
      "outputs": [
        {
          "output_type": "execute_result",
          "data": {
            "text/plain": [
              "'about'"
            ],
            "application/vnd.google.colaboratory.intrinsic+json": {
              "type": "string"
            }
          },
          "metadata": {},
          "execution_count": 30
        }
      ]
    },
    {
      "cell_type": "code",
      "source": [
        "def accuracy():\n",
        "  wrong = 0\n",
        "\n",
        "  for context, target in data:\n",
        "    if(predict(context) != target):\n",
        "      wrong += 1\n",
        "\n",
        "  return (1 - wrong / len(data))"
      ],
      "metadata": {
        "id": "-UsGzQ-aQaCM"
      },
      "execution_count": 31,
      "outputs": []
    },
    {
      "cell_type": "code",
      "source": [
        "accuracy()"
      ],
      "metadata": {
        "colab": {
          "base_uri": "https://localhost:8080/"
        },
        "id": "QzFGba4oQdPI",
        "outputId": "81a07934-40ae-465d-af60-4c8ecaa218f3"
      },
      "execution_count": 32,
      "outputs": [
        {
          "output_type": "execute_result",
          "data": {
            "text/plain": [
              "1.0"
            ]
          },
          "metadata": {},
          "execution_count": 32
        }
      ]
    },
    {
      "cell_type": "code",
      "source": [
        "predict(['processes' , 'manipulate' , 'things' , 'study'])"
      ],
      "metadata": {
        "colab": {
          "base_uri": "https://localhost:8080/",
          "height": 35
        },
        "id": "YgmcN5CBQfyX",
        "outputId": "28a411ea-df40-4e47-a789-e634d91fb75c"
      },
      "execution_count": 33,
      "outputs": [
        {
          "output_type": "execute_result",
          "data": {
            "text/plain": [
              "'abstract'"
            ],
            "application/vnd.google.colaboratory.intrinsic+json": {
              "type": "string"
            }
          },
          "metadata": {},
          "execution_count": 33
        }
      ]
    },
    {
      "cell_type": "code",
      "source": [],
      "metadata": {
        "id": "iN08FwXtQjKp"
      },
      "execution_count": null,
      "outputs": []
    }
  ]
}
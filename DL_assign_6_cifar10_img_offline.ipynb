{
 "cells": [
  {
   "cell_type": "code",
   "execution_count": 1,
   "id": "31c2e651-8075-41a1-b996-30bca14f1627",
   "metadata": {},
   "outputs": [
    {
     "name": "stderr",
     "output_type": "stream",
     "text": [
      "2023-11-03 06:10:57.056062: I tensorflow/core/platform/cpu_feature_guard.cc:182] This TensorFlow binary is optimized to use available CPU instructions in performance-critical operations.\n",
      "To enable the following instructions: AVX2 FMA, in other operations, rebuild TensorFlow with the appropriate compiler flags.\n"
     ]
    }
   ],
   "source": [
    "import tensorflow as tf\n",
    "from tensorflow import keras\n",
    "from tensorflow.keras.applications import VGG16\n",
    "from tensorflow.keras.models import Model\n",
    "from tensorflow.keras.layers import Dense, Flatten\n",
    "from tensorflow.keras.optimizers import Adam\n",
    "from tensorflow.keras.preprocessing.image import ImageDataGenerator\n",
    "import numpy as np"
   ]
  },
  {
   "cell_type": "markdown",
   "id": "203d03af-e7eb-406f-b9dc-9dad72072a3f",
   "metadata": {},
   "source": [
    "#### Pre processing img data "
   ]
  },
  {
   "cell_type": "code",
   "execution_count": 2,
   "id": "bae4a153-6f00-4265-add9-35904409dd72",
   "metadata": {},
   "outputs": [
    {
     "name": "stdout",
     "output_type": "stream",
     "text": [
      "Found 40079 images belonging to 10 classes.\n",
      "Found 9921 images belonging to 10 classes.\n"
     ]
    }
   ],
   "source": [
    "train_dir = \"Datasets/cifar-10-img/train\"\n",
    "test_dir = \"Datasets/cifar-10-img/test\"\n",
    "\n",
    "train_datagen = ImageDataGenerator(\n",
    "    rescale=1.0 / 255,\n",
    ")\n",
    "\n",
    "test_datagen = ImageDataGenerator(\n",
    "    rescale=1.0 / 255,\n",
    ")\n",
    "\n",
    "# here batch_size is the number of images in each batch\n",
    "train_batch_size = 5000\n",
    "train_generator = train_datagen.flow_from_directory(\n",
    "    train_dir,\n",
    "    target_size=(32, 32),\n",
    "    batch_size=train_batch_size,\n",
    "    class_mode='categorical'\n",
    ")\n",
    "test_batch_size = 1000\n",
    "test_generator = test_datagen.flow_from_directory(\n",
    "    test_dir,\n",
    "    target_size=(32, 32),\n",
    "    batch_size=test_batch_size,\n",
    "    class_mode='categorical'\n",
    ")"
   ]
  },
  {
   "cell_type": "markdown",
   "id": "4609c200-c5fc-4067-b3b3-bd8b7226e27d",
   "metadata": {},
   "source": [
    "#### Selecting only first batch with 5000 images as train and test data"
   ]
  },
  {
   "cell_type": "code",
   "execution_count": 3,
   "id": "b4369f09-67f5-4f91-a6f2-971ed179dea9",
   "metadata": {},
   "outputs": [
    {
     "name": "stdout",
     "output_type": "stream",
     "text": [
      "5000\n",
      "1000\n"
     ]
    }
   ],
   "source": [
    "x_train, y_train =  train_generator[0]\n",
    "x_test, y_test = test_generator[0]\n",
    "\n",
    "print(len(x_train))\n",
    "print(len(x_test))"
   ]
  },
  {
   "cell_type": "markdown",
   "id": "9db56097-894f-44a2-8b54-8241acd0dea9",
   "metadata": {},
   "source": [
    "#### a. Load in a pre-trained CNN model trained on a large dataset"
   ]
  },
  {
   "cell_type": "code",
   "execution_count": 4,
   "id": "3e80ede0-af89-4fd0-b431-191d5f6401d4",
   "metadata": {},
   "outputs": [],
   "source": [
    "# Load VGG16 without top layers\n",
    "weights_path = \"vgg16_weights_tf_dim_ordering_tf_kernels_notop.h5\"\n",
    "base_model = VGG16(weights=weights_path, include_top=False, input_shape=(32, 32, 3))"
   ]
  },
  {
   "cell_type": "markdown",
   "id": "8dfc0b6a-99ae-4197-aae2-288d54241ce4",
   "metadata": {},
   "source": [
    "#### b. Freeze parameters (weights) in model’s lower convolutional layers"
   ]
  },
  {
   "cell_type": "code",
   "execution_count": 5,
   "id": "b64173b6-f973-416d-95a5-bfb158f9aa11",
   "metadata": {},
   "outputs": [],
   "source": [
    "for layer in base_model.layers:\n",
    "   layer.trainable = False"
   ]
  },
  {
   "cell_type": "markdown",
   "id": "324ff8f4-4cb4-451e-a72b-3f35ee41f600",
   "metadata": {},
   "source": [
    "#### c. Add custom classifier with several layers of trainable parameters to model"
   ]
  },
  {
   "cell_type": "code",
   "execution_count": 6,
   "id": "e44e9909-36b2-48cb-8470-1e6648a229a2",
   "metadata": {},
   "outputs": [],
   "source": [
    "x = Flatten()(base_model.output)\n",
    "x = Dense(256, activation='relu')(x)\n",
    "x = tf.keras.layers.Dropout(0.3)(x)\n",
    "x = Dense(256, activation='relu')(x)\n",
    "x = tf.keras.layers.Dropout(0.3)(x)\n",
    "predictions = Dense(10, activation='softmax')(x)\n",
    "\n",
    "# Create the model\n",
    "model = Model(inputs=base_model.input, outputs=predictions)\n",
    "# Compile the model\n",
    "model.compile(optimizer=\"adam\", loss='categorical_crossentropy', metrics=['accuracy'])"
   ]
  },
  {
   "cell_type": "markdown",
   "id": "af0aac27-8b92-4f9d-a43a-af5633d440b8",
   "metadata": {},
   "source": [
    "#### d. Train classifier layers on training data available for task"
   ]
  },
  {
   "cell_type": "code",
   "execution_count": 7,
   "id": "3ce936f9-8497-4be8-877b-63d8f7c27885",
   "metadata": {},
   "outputs": [
    {
     "name": "stdout",
     "output_type": "stream",
     "text": [
      "Epoch 1/10\n",
      "79/79 [==============================] - 10s 119ms/step - loss: 1.9530 - accuracy: 0.2880 - val_loss: 1.6006 - val_accuracy: 0.4470\n",
      "Epoch 2/10\n",
      "79/79 [==============================] - 9s 113ms/step - loss: 1.5765 - accuracy: 0.4372 - val_loss: 1.4799 - val_accuracy: 0.4570\n",
      "Epoch 3/10\n",
      "79/79 [==============================] - 9s 108ms/step - loss: 1.4546 - accuracy: 0.4854 - val_loss: 1.4637 - val_accuracy: 0.4790\n",
      "Epoch 4/10\n",
      "79/79 [==============================] - 9s 113ms/step - loss: 1.3586 - accuracy: 0.5148 - val_loss: 1.3521 - val_accuracy: 0.5110\n",
      "Epoch 5/10\n",
      "79/79 [==============================] - 9s 113ms/step - loss: 1.2805 - accuracy: 0.5414 - val_loss: 1.3299 - val_accuracy: 0.5250\n",
      "Epoch 6/10\n",
      "79/79 [==============================] - 9s 112ms/step - loss: 1.2203 - accuracy: 0.5698 - val_loss: 1.3169 - val_accuracy: 0.5310\n",
      "Epoch 7/10\n",
      "79/79 [==============================] - 9s 115ms/step - loss: 1.1837 - accuracy: 0.5808 - val_loss: 1.3618 - val_accuracy: 0.5180\n",
      "Epoch 8/10\n",
      "79/79 [==============================] - 9s 110ms/step - loss: 1.1292 - accuracy: 0.5976 - val_loss: 1.3352 - val_accuracy: 0.5310\n",
      "Epoch 9/10\n",
      "79/79 [==============================] - 8s 104ms/step - loss: 1.0966 - accuracy: 0.6126 - val_loss: 1.3058 - val_accuracy: 0.5450\n",
      "Epoch 10/10\n",
      "79/79 [==============================] - 8s 107ms/step - loss: 1.0356 - accuracy: 0.6314 - val_loss: 1.3351 - val_accuracy: 0.5250\n"
     ]
    },
    {
     "data": {
      "text/plain": [
       "<keras.src.callbacks.History at 0x7fedd03117d0>"
      ]
     },
     "execution_count": 7,
     "metadata": {},
     "output_type": "execute_result"
    }
   ],
   "source": [
    "# Train the model\n",
    "model.fit(x_train, y_train, batch_size=64, epochs=10, validation_data=(x_test, y_test))"
   ]
  },
  {
   "cell_type": "markdown",
   "id": "521fc40f-4c47-462f-8965-9026bdb98edb",
   "metadata": {},
   "source": [
    "#### e. Fine-tune hyper parameters and unfreeze more layers as needed"
   ]
  },
  {
   "cell_type": "code",
   "execution_count": 8,
   "id": "c1d6efc6-3209-4586-8947-385a0120f861",
   "metadata": {},
   "outputs": [
    {
     "name": "stdout",
     "output_type": "stream",
     "text": [
      "Epoch 1/10\n",
      "79/79 [==============================] - 52s 651ms/step - loss: 1.9810 - accuracy: 0.2466 - val_loss: 1.5456 - val_accuracy: 0.4270\n",
      "Epoch 2/10\n",
      "79/79 [==============================] - 51s 649ms/step - loss: 1.3616 - accuracy: 0.5026 - val_loss: 1.3817 - val_accuracy: 0.5110\n",
      "Epoch 3/10\n",
      "79/79 [==============================] - 48s 608ms/step - loss: 1.1024 - accuracy: 0.6130 - val_loss: 1.3000 - val_accuracy: 0.5650\n",
      "Epoch 4/10\n",
      "79/79 [==============================] - 48s 606ms/step - loss: 0.9341 - accuracy: 0.6676 - val_loss: 1.3958 - val_accuracy: 0.5780\n",
      "Epoch 5/10\n",
      "79/79 [==============================] - 47s 593ms/step - loss: 0.8194 - accuracy: 0.7188 - val_loss: 1.1362 - val_accuracy: 0.6280\n",
      "Epoch 6/10\n",
      "79/79 [==============================] - 48s 604ms/step - loss: 0.7217 - accuracy: 0.7490 - val_loss: 1.2076 - val_accuracy: 0.6320\n",
      "Epoch 7/10\n",
      "79/79 [==============================] - 48s 607ms/step - loss: 0.6066 - accuracy: 0.7964 - val_loss: 1.2179 - val_accuracy: 0.6490\n",
      "Epoch 8/10\n",
      "79/79 [==============================] - 52s 658ms/step - loss: 0.5376 - accuracy: 0.8158 - val_loss: 1.2243 - val_accuracy: 0.6430\n",
      "Epoch 9/10\n",
      "79/79 [==============================] - 51s 650ms/step - loss: 0.4506 - accuracy: 0.8510 - val_loss: 1.3139 - val_accuracy: 0.6470\n",
      "Epoch 10/10\n",
      "79/79 [==============================] - 49s 625ms/step - loss: 0.3589 - accuracy: 0.8834 - val_loss: 1.6347 - val_accuracy: 0.6510\n"
     ]
    },
    {
     "data": {
      "text/plain": [
       "<keras.src.callbacks.History at 0x7fedb054a450>"
      ]
     },
     "execution_count": 8,
     "metadata": {},
     "output_type": "execute_result"
    }
   ],
   "source": [
    "base_model = VGG16(weights=weights_path, include_top=False, input_shape=(32, 32, 3))\n",
    "# freeze all layers first\n",
    "for layer in base_model.layers:\n",
    "   layer.trainable = False\n",
    "# unfreeze last 4 layers of base model\n",
    "for layer in base_model.layers[len(base_model.layers) - 4:]:\n",
    "   layer.trainable = True\n",
    "# fine-tuning hyper parameters\n",
    "x = Flatten()(base_model.output)\n",
    "x = Dense(256, activation='relu')(x)\n",
    "x = tf.keras.layers.Dropout(0.3)(x)\n",
    "x = Dense(512, activation='relu')(x)\n",
    "x = tf.keras.layers.Dropout(0.3)(x)\n",
    "predictions = Dense(10, activation='softmax')(x)\n",
    "\n",
    "# Create the model\n",
    "model = Model(inputs=base_model.input, outputs=predictions)\n",
    "# Compile the model\n",
    "model.compile(optimizer=Adam(learning_rate=0.001), loss='categorical_crossentropy', metrics=['accuracy'])\n",
    "# training fine tuned model\n",
    "model.fit(x_train, y_train, batch_size=64, epochs=10, validation_data=(x_test, y_test))"
   ]
  },
  {
   "cell_type": "code",
   "execution_count": 10,
   "id": "fc035871-ca9a-4c0e-9204-d999e14c53c8",
   "metadata": {},
   "outputs": [
    {
     "name": "stdout",
     "output_type": "stream",
     "text": [
      "32/32 [==============================] - 2s 65ms/step\n"
     ]
    }
   ],
   "source": [
    "import matplotlib.pyplot as plt\n",
    "predicted_value = model.predict(x_test)"
   ]
  },
  {
   "cell_type": "code",
   "execution_count": 11,
   "id": "3637d2e8-05ea-4e4d-a38b-b2c1ca6c76be",
   "metadata": {},
   "outputs": [],
   "source": [
    "labels = list(test_generator.class_indices.keys())"
   ]
  },
  {
   "cell_type": "code",
   "execution_count": 19,
   "id": "6d4825f5-8e54-47a9-ab3b-57e55c9d11f4",
   "metadata": {},
   "outputs": [
    {
     "name": "stdout",
     "output_type": "stream",
     "text": [
      "Preditcted:  frog\n",
      "Actual:  frog\n"
     ]
    },
    {
     "data": {
      "image/png": "[encoded data removed]",
      "text/plain": [
       "<Figure size 640x480 with 1 Axes>"
      ]
     },
     "metadata": {},
     "output_type": "display_data"
    }
   ],
   "source": [
    "n = 890\n",
    "plt.imshow(x_test[n])\n",
    "print(\"Preditcted: \",labels[np.argmax(predicted_value[n])])\n",
    "print(\"Actual: \", labels[np.argmax(y_test[n])])"
   ]
  }
 ],
 "metadata": {
  "kernelspec": {
   "display_name": "Python 3 (ipykernel)",
   "language": "python",
   "name": "python3"
  },
  "language_info": {
   "codemirror_mode": {
    "name": "ipython",
    "version": 3
   },
   "file_extension": ".py",
   "mimetype": "text/x-python",
   "name": "python",
   "nbconvert_exporter": "python",
   "pygments_lexer": "ipython3",
   "version": "3.11.0rc1"
  }
 },
 "nbformat": 4,
 "nbformat_minor": 5
}
